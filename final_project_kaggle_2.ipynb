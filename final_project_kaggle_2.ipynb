{
 "cells": [
  {
   "cell_type": "code",
   "execution_count": 1,
   "metadata": {
    "colab": {
     "base_uri": "https://localhost:8080/",
     "height": 122
    },
    "colab_type": "code",
    "id": "PZvJJaRCibY5",
    "outputId": "ca430629-be60-4772-884f-65811c548cb2"
   },
   "outputs": [],
   "source": [
    "import numpy as np\n",
    "import pandas as pd\n",
    "import matplotlib.pyplot as plt\n",
    "from sklearn.preprocessing import LabelEncoder\n",
    "\n",
    "# from google.colab import drive\n",
    "# drive.mount('/content/drive')"
   ]
  },
  {
   "cell_type": "code",
   "execution_count": 2,
   "metadata": {
    "colab": {},
    "colab_type": "code",
    "id": "bnYIhw0Kks7O"
   },
   "outputs": [],
   "source": [
    "root = \"./data/\""
   ]
  },
  {
   "cell_type": "code",
   "execution_count": 3,
   "metadata": {
    "colab": {},
    "colab_type": "code",
    "id": "a1weM9PNk4I-"
   },
   "outputs": [],
   "source": [
    "sales_train = pd.read_csv(root + \"sales_train.csv\")\n",
    "items = pd.read_csv(root + \"items.csv\")\n",
    "shops = pd.read_csv(root + \"shops.csv\")\n",
    "item_categories = pd.read_csv(root + \"item_categories.csv\")\n",
    "test = pd.read_csv(root + \"test.csv\")\n",
    "sample_submission = pd.read_csv(root + \"sample_submission.csv\")"
   ]
  },
  {
   "cell_type": "markdown",
   "metadata": {},
   "source": [
    "## Let's have a looks at the data"
   ]
  },
  {
   "cell_type": "code",
   "execution_count": 4,
   "metadata": {
    "colab": {
     "base_uri": "https://localhost:8080/",
     "height": 204
    },
    "colab_type": "code",
    "id": "vBfB7H77ldcz",
    "outputId": "0e04dde5-d87e-4028-8f7b-b9355f9c9e49"
   },
   "outputs": [
    {
     "data": {
      "text/html": [
       "<div>\n",
       "<style scoped>\n",
       "    .dataframe tbody tr th:only-of-type {\n",
       "        vertical-align: middle;\n",
       "    }\n",
       "\n",
       "    .dataframe tbody tr th {\n",
       "        vertical-align: top;\n",
       "    }\n",
       "\n",
       "    .dataframe thead th {\n",
       "        text-align: right;\n",
       "    }\n",
       "</style>\n",
       "<table border=\"1\" class=\"dataframe\">\n",
       "  <thead>\n",
       "    <tr style=\"text-align: right;\">\n",
       "      <th></th>\n",
       "      <th>date</th>\n",
       "      <th>date_block_num</th>\n",
       "      <th>shop_id</th>\n",
       "      <th>item_id</th>\n",
       "      <th>item_price</th>\n",
       "      <th>item_cnt_day</th>\n",
       "    </tr>\n",
       "  </thead>\n",
       "  <tbody>\n",
       "    <tr>\n",
       "      <th>0</th>\n",
       "      <td>02.01.2013</td>\n",
       "      <td>0</td>\n",
       "      <td>59</td>\n",
       "      <td>22154</td>\n",
       "      <td>999.00</td>\n",
       "      <td>1.0</td>\n",
       "    </tr>\n",
       "    <tr>\n",
       "      <th>1</th>\n",
       "      <td>03.01.2013</td>\n",
       "      <td>0</td>\n",
       "      <td>25</td>\n",
       "      <td>2552</td>\n",
       "      <td>899.00</td>\n",
       "      <td>1.0</td>\n",
       "    </tr>\n",
       "    <tr>\n",
       "      <th>2</th>\n",
       "      <td>05.01.2013</td>\n",
       "      <td>0</td>\n",
       "      <td>25</td>\n",
       "      <td>2552</td>\n",
       "      <td>899.00</td>\n",
       "      <td>-1.0</td>\n",
       "    </tr>\n",
       "    <tr>\n",
       "      <th>3</th>\n",
       "      <td>06.01.2013</td>\n",
       "      <td>0</td>\n",
       "      <td>25</td>\n",
       "      <td>2554</td>\n",
       "      <td>1709.05</td>\n",
       "      <td>1.0</td>\n",
       "    </tr>\n",
       "    <tr>\n",
       "      <th>4</th>\n",
       "      <td>15.01.2013</td>\n",
       "      <td>0</td>\n",
       "      <td>25</td>\n",
       "      <td>2555</td>\n",
       "      <td>1099.00</td>\n",
       "      <td>1.0</td>\n",
       "    </tr>\n",
       "  </tbody>\n",
       "</table>\n",
       "</div>"
      ],
      "text/plain": [
       "         date  date_block_num  shop_id  item_id  item_price  item_cnt_day\n",
       "0  02.01.2013               0       59    22154      999.00           1.0\n",
       "1  03.01.2013               0       25     2552      899.00           1.0\n",
       "2  05.01.2013               0       25     2552      899.00          -1.0\n",
       "3  06.01.2013               0       25     2554     1709.05           1.0\n",
       "4  15.01.2013               0       25     2555     1099.00           1.0"
      ]
     },
     "execution_count": 4,
     "metadata": {},
     "output_type": "execute_result"
    }
   ],
   "source": [
    "sales_train.head()"
   ]
  },
  {
   "cell_type": "code",
   "execution_count": 5,
   "metadata": {
    "colab": {
     "base_uri": "https://localhost:8080/",
     "height": 204
    },
    "colab_type": "code",
    "id": "BxcCcfxplfeP",
    "outputId": "d5eed08f-4c18-4082-8761-bef7122680df"
   },
   "outputs": [
    {
     "data": {
      "text/html": [
       "<div>\n",
       "<style scoped>\n",
       "    .dataframe tbody tr th:only-of-type {\n",
       "        vertical-align: middle;\n",
       "    }\n",
       "\n",
       "    .dataframe tbody tr th {\n",
       "        vertical-align: top;\n",
       "    }\n",
       "\n",
       "    .dataframe thead th {\n",
       "        text-align: right;\n",
       "    }\n",
       "</style>\n",
       "<table border=\"1\" class=\"dataframe\">\n",
       "  <thead>\n",
       "    <tr style=\"text-align: right;\">\n",
       "      <th></th>\n",
       "      <th>item_name</th>\n",
       "      <th>item_id</th>\n",
       "      <th>item_category_id</th>\n",
       "    </tr>\n",
       "  </thead>\n",
       "  <tbody>\n",
       "    <tr>\n",
       "      <th>0</th>\n",
       "      <td>! ВО ВЛАСТИ НАВАЖДЕНИЯ (ПЛАСТ.)         D</td>\n",
       "      <td>0</td>\n",
       "      <td>40</td>\n",
       "    </tr>\n",
       "    <tr>\n",
       "      <th>1</th>\n",
       "      <td>!ABBYY FineReader 12 Professional Edition Full...</td>\n",
       "      <td>1</td>\n",
       "      <td>76</td>\n",
       "    </tr>\n",
       "    <tr>\n",
       "      <th>2</th>\n",
       "      <td>***В ЛУЧАХ СЛАВЫ   (UNV)                    D</td>\n",
       "      <td>2</td>\n",
       "      <td>40</td>\n",
       "    </tr>\n",
       "    <tr>\n",
       "      <th>3</th>\n",
       "      <td>***ГОЛУБАЯ ВОЛНА  (Univ)                      D</td>\n",
       "      <td>3</td>\n",
       "      <td>40</td>\n",
       "    </tr>\n",
       "    <tr>\n",
       "      <th>4</th>\n",
       "      <td>***КОРОБКА (СТЕКЛО)                       D</td>\n",
       "      <td>4</td>\n",
       "      <td>40</td>\n",
       "    </tr>\n",
       "  </tbody>\n",
       "</table>\n",
       "</div>"
      ],
      "text/plain": [
       "                                           item_name  item_id  \\\n",
       "0          ! ВО ВЛАСТИ НАВАЖДЕНИЯ (ПЛАСТ.)         D        0   \n",
       "1  !ABBYY FineReader 12 Professional Edition Full...        1   \n",
       "2      ***В ЛУЧАХ СЛАВЫ   (UNV)                    D        2   \n",
       "3    ***ГОЛУБАЯ ВОЛНА  (Univ)                      D        3   \n",
       "4        ***КОРОБКА (СТЕКЛО)                       D        4   \n",
       "\n",
       "   item_category_id  \n",
       "0                40  \n",
       "1                76  \n",
       "2                40  \n",
       "3                40  \n",
       "4                40  "
      ]
     },
     "execution_count": 5,
     "metadata": {},
     "output_type": "execute_result"
    }
   ],
   "source": [
    "items.head()"
   ]
  },
  {
   "cell_type": "code",
   "execution_count": 6,
   "metadata": {
    "colab": {
     "base_uri": "https://localhost:8080/",
     "height": 204
    },
    "colab_type": "code",
    "id": "eFFaSu6Ulflx",
    "outputId": "1b3edc83-9cf9-4218-bd2a-06b309af6eea"
   },
   "outputs": [
    {
     "data": {
      "text/html": [
       "<div>\n",
       "<style scoped>\n",
       "    .dataframe tbody tr th:only-of-type {\n",
       "        vertical-align: middle;\n",
       "    }\n",
       "\n",
       "    .dataframe tbody tr th {\n",
       "        vertical-align: top;\n",
       "    }\n",
       "\n",
       "    .dataframe thead th {\n",
       "        text-align: right;\n",
       "    }\n",
       "</style>\n",
       "<table border=\"1\" class=\"dataframe\">\n",
       "  <thead>\n",
       "    <tr style=\"text-align: right;\">\n",
       "      <th></th>\n",
       "      <th>shop_name</th>\n",
       "      <th>shop_id</th>\n",
       "    </tr>\n",
       "  </thead>\n",
       "  <tbody>\n",
       "    <tr>\n",
       "      <th>0</th>\n",
       "      <td>!Якутск Орджоникидзе, 56 фран</td>\n",
       "      <td>0</td>\n",
       "    </tr>\n",
       "    <tr>\n",
       "      <th>1</th>\n",
       "      <td>!Якутск ТЦ \"Центральный\" фран</td>\n",
       "      <td>1</td>\n",
       "    </tr>\n",
       "    <tr>\n",
       "      <th>2</th>\n",
       "      <td>Адыгея ТЦ \"Мега\"</td>\n",
       "      <td>2</td>\n",
       "    </tr>\n",
       "    <tr>\n",
       "      <th>3</th>\n",
       "      <td>Балашиха ТРК \"Октябрь-Киномир\"</td>\n",
       "      <td>3</td>\n",
       "    </tr>\n",
       "    <tr>\n",
       "      <th>4</th>\n",
       "      <td>Волжский ТЦ \"Волга Молл\"</td>\n",
       "      <td>4</td>\n",
       "    </tr>\n",
       "  </tbody>\n",
       "</table>\n",
       "</div>"
      ],
      "text/plain": [
       "                        shop_name  shop_id\n",
       "0   !Якутск Орджоникидзе, 56 фран        0\n",
       "1   !Якутск ТЦ \"Центральный\" фран        1\n",
       "2                Адыгея ТЦ \"Мега\"        2\n",
       "3  Балашиха ТРК \"Октябрь-Киномир\"        3\n",
       "4        Волжский ТЦ \"Волга Молл\"        4"
      ]
     },
     "execution_count": 6,
     "metadata": {},
     "output_type": "execute_result"
    }
   ],
   "source": [
    "shops.head()"
   ]
  },
  {
   "cell_type": "code",
   "execution_count": 7,
   "metadata": {
    "colab": {
     "base_uri": "https://localhost:8080/",
     "height": 204
    },
    "colab_type": "code",
    "id": "n_ItvbvUlfod",
    "outputId": "9f42a119-bf06-4873-831f-a04b8388abd4"
   },
   "outputs": [
    {
     "data": {
      "text/html": [
       "<div>\n",
       "<style scoped>\n",
       "    .dataframe tbody tr th:only-of-type {\n",
       "        vertical-align: middle;\n",
       "    }\n",
       "\n",
       "    .dataframe tbody tr th {\n",
       "        vertical-align: top;\n",
       "    }\n",
       "\n",
       "    .dataframe thead th {\n",
       "        text-align: right;\n",
       "    }\n",
       "</style>\n",
       "<table border=\"1\" class=\"dataframe\">\n",
       "  <thead>\n",
       "    <tr style=\"text-align: right;\">\n",
       "      <th></th>\n",
       "      <th>item_category_name</th>\n",
       "      <th>item_category_id</th>\n",
       "    </tr>\n",
       "  </thead>\n",
       "  <tbody>\n",
       "    <tr>\n",
       "      <th>0</th>\n",
       "      <td>PC - Гарнитуры/Наушники</td>\n",
       "      <td>0</td>\n",
       "    </tr>\n",
       "    <tr>\n",
       "      <th>1</th>\n",
       "      <td>Аксессуары - PS2</td>\n",
       "      <td>1</td>\n",
       "    </tr>\n",
       "    <tr>\n",
       "      <th>2</th>\n",
       "      <td>Аксессуары - PS3</td>\n",
       "      <td>2</td>\n",
       "    </tr>\n",
       "    <tr>\n",
       "      <th>3</th>\n",
       "      <td>Аксессуары - PS4</td>\n",
       "      <td>3</td>\n",
       "    </tr>\n",
       "    <tr>\n",
       "      <th>4</th>\n",
       "      <td>Аксессуары - PSP</td>\n",
       "      <td>4</td>\n",
       "    </tr>\n",
       "  </tbody>\n",
       "</table>\n",
       "</div>"
      ],
      "text/plain": [
       "        item_category_name  item_category_id\n",
       "0  PC - Гарнитуры/Наушники                 0\n",
       "1         Аксессуары - PS2                 1\n",
       "2         Аксессуары - PS3                 2\n",
       "3         Аксессуары - PS4                 3\n",
       "4         Аксессуары - PSP                 4"
      ]
     },
     "execution_count": 7,
     "metadata": {},
     "output_type": "execute_result"
    }
   ],
   "source": [
    "item_categories.head()"
   ]
  },
  {
   "cell_type": "code",
   "execution_count": 8,
   "metadata": {
    "colab": {
     "base_uri": "https://localhost:8080/",
     "height": 204
    },
    "colab_type": "code",
    "id": "oE0rgTEHlfrX",
    "outputId": "4022bab1-580f-4ad9-a2dd-1aaefee431d6"
   },
   "outputs": [
    {
     "data": {
      "text/html": [
       "<div>\n",
       "<style scoped>\n",
       "    .dataframe tbody tr th:only-of-type {\n",
       "        vertical-align: middle;\n",
       "    }\n",
       "\n",
       "    .dataframe tbody tr th {\n",
       "        vertical-align: top;\n",
       "    }\n",
       "\n",
       "    .dataframe thead th {\n",
       "        text-align: right;\n",
       "    }\n",
       "</style>\n",
       "<table border=\"1\" class=\"dataframe\">\n",
       "  <thead>\n",
       "    <tr style=\"text-align: right;\">\n",
       "      <th></th>\n",
       "      <th>ID</th>\n",
       "      <th>shop_id</th>\n",
       "      <th>item_id</th>\n",
       "    </tr>\n",
       "  </thead>\n",
       "  <tbody>\n",
       "    <tr>\n",
       "      <th>0</th>\n",
       "      <td>0</td>\n",
       "      <td>5</td>\n",
       "      <td>5037</td>\n",
       "    </tr>\n",
       "    <tr>\n",
       "      <th>1</th>\n",
       "      <td>1</td>\n",
       "      <td>5</td>\n",
       "      <td>5320</td>\n",
       "    </tr>\n",
       "    <tr>\n",
       "      <th>2</th>\n",
       "      <td>2</td>\n",
       "      <td>5</td>\n",
       "      <td>5233</td>\n",
       "    </tr>\n",
       "    <tr>\n",
       "      <th>3</th>\n",
       "      <td>3</td>\n",
       "      <td>5</td>\n",
       "      <td>5232</td>\n",
       "    </tr>\n",
       "    <tr>\n",
       "      <th>4</th>\n",
       "      <td>4</td>\n",
       "      <td>5</td>\n",
       "      <td>5268</td>\n",
       "    </tr>\n",
       "  </tbody>\n",
       "</table>\n",
       "</div>"
      ],
      "text/plain": [
       "   ID  shop_id  item_id\n",
       "0   0        5     5037\n",
       "1   1        5     5320\n",
       "2   2        5     5233\n",
       "3   3        5     5232\n",
       "4   4        5     5268"
      ]
     },
     "execution_count": 8,
     "metadata": {},
     "output_type": "execute_result"
    }
   ],
   "source": [
    "test.head()"
   ]
  },
  {
   "cell_type": "code",
   "execution_count": 9,
   "metadata": {
    "colab": {
     "base_uri": "https://localhost:8080/",
     "height": 204
    },
    "colab_type": "code",
    "id": "VlEM73hMlfyR",
    "outputId": "61445703-8cd8-42a1-9193-ca8c8e4922c2"
   },
   "outputs": [
    {
     "data": {
      "text/html": [
       "<div>\n",
       "<style scoped>\n",
       "    .dataframe tbody tr th:only-of-type {\n",
       "        vertical-align: middle;\n",
       "    }\n",
       "\n",
       "    .dataframe tbody tr th {\n",
       "        vertical-align: top;\n",
       "    }\n",
       "\n",
       "    .dataframe thead th {\n",
       "        text-align: right;\n",
       "    }\n",
       "</style>\n",
       "<table border=\"1\" class=\"dataframe\">\n",
       "  <thead>\n",
       "    <tr style=\"text-align: right;\">\n",
       "      <th></th>\n",
       "      <th>ID</th>\n",
       "      <th>item_cnt_month</th>\n",
       "    </tr>\n",
       "  </thead>\n",
       "  <tbody>\n",
       "    <tr>\n",
       "      <th>0</th>\n",
       "      <td>0</td>\n",
       "      <td>0.5</td>\n",
       "    </tr>\n",
       "    <tr>\n",
       "      <th>1</th>\n",
       "      <td>1</td>\n",
       "      <td>0.5</td>\n",
       "    </tr>\n",
       "    <tr>\n",
       "      <th>2</th>\n",
       "      <td>2</td>\n",
       "      <td>0.5</td>\n",
       "    </tr>\n",
       "    <tr>\n",
       "      <th>3</th>\n",
       "      <td>3</td>\n",
       "      <td>0.5</td>\n",
       "    </tr>\n",
       "    <tr>\n",
       "      <th>4</th>\n",
       "      <td>4</td>\n",
       "      <td>0.5</td>\n",
       "    </tr>\n",
       "  </tbody>\n",
       "</table>\n",
       "</div>"
      ],
      "text/plain": [
       "   ID  item_cnt_month\n",
       "0   0             0.5\n",
       "1   1             0.5\n",
       "2   2             0.5\n",
       "3   3             0.5\n",
       "4   4             0.5"
      ]
     },
     "execution_count": 9,
     "metadata": {},
     "output_type": "execute_result"
    }
   ],
   "source": [
    "sample_submission.head()"
   ]
  },
  {
   "cell_type": "markdown",
   "metadata": {},
   "source": [
    "## EDA"
   ]
  },
  {
   "cell_type": "code",
   "execution_count": 10,
   "metadata": {},
   "outputs": [
    {
     "name": "stdout",
     "output_type": "stream",
     "text": [
      "Transactions: 2,935,849\n"
     ]
    }
   ],
   "source": [
    "print(f\"Transactions: {len(sales_train):,}\")"
   ]
  },
  {
   "cell_type": "code",
   "execution_count": 11,
   "metadata": {},
   "outputs": [
    {
     "name": "stdout",
     "output_type": "stream",
     "text": [
      "Transaction dates: From 01.01.2013 to 31.12.2014\n"
     ]
    }
   ],
   "source": [
    "print(f\"Transaction dates: From {sales_train['date'].min()} to {sales_train['date'].max()}\")"
   ]
  },
  {
   "cell_type": "code",
   "execution_count": 12,
   "metadata": {},
   "outputs": [
    {
     "name": "stdout",
     "output_type": "stream",
     "text": [
      "from 1,123 to 9,434 transactions per day\n",
      "from 1,274.0 to 13,343.0 items bought daily\n"
     ]
    }
   ],
   "source": [
    "# group by day\n",
    "sales_train = pd.read_csv(root + \"sales_train.csv\", parse_dates=['date'])\n",
    "group = sales_train.groupby(['date']).agg(['sum', 'count']).reset_index()\n",
    "print(f\"from {group['item_cnt_day']['count'].min():,} to {group['item_cnt_day']['count'].max():,} transactions per day\")\n",
    "print(f\"from {group['item_cnt_day']['sum'].min():,} to {group['item_cnt_day']['sum'].max():,} items bought daily\")"
   ]
  },
  {
   "cell_type": "code",
   "execution_count": 13,
   "metadata": {},
   "outputs": [
    {
     "name": "stdout",
     "output_type": "stream",
     "text": [
      "from 18,252 to 144,640 transactions per month\n",
      "from 21,484.0 to 184,559.0 items bought per month\n"
     ]
    }
   ],
   "source": [
    "# group by month\n",
    "group = sales_train.groupby(sales_train.date.dt.to_period(\"M\")).agg(['sum', 'count']).reset_index()\n",
    "print(f\"from {group['item_cnt_day']['count'].min():,} to {group['item_cnt_day']['count'].max():,} transactions per month\")\n",
    "print(f\"from {group['item_cnt_day']['sum'].min():,} to {group['item_cnt_day']['sum'].max():,} items bought per month\")"
   ]
  },
  {
   "cell_type": "code",
   "execution_count": 14,
   "metadata": {},
   "outputs": [
    {
     "data": {
      "image/png": "[encoded data removed]",
      "text/plain": [
       "<Figure size 1200x480 with 1 Axes>"
      ]
     },
     "metadata": {},
     "output_type": "display_data"
    }
   ],
   "source": [
    "# group by month\n",
    "group = sales_train.groupby(sales_train.date.dt.to_period(\"M\")).agg(['sum', 'count']).reset_index()\n",
    "\n",
    "group_sorted = group.sort_values(by=['date'])\n",
    "\n",
    "fig, ax = plt.subplots(1,1, figsize=(15, 6), dpi=80, facecolor='w', edgecolor='k')\n",
    "x = np.arange(0,len(group_sorted),1)\n",
    "ax.plot(x, group_sorted['item_cnt_day']['count'], 'r--', label='transactions')\n",
    "ax.plot(x, group_sorted['item_cnt_day']['count'], 'ro')\n",
    "\n",
    "ax.set_ylabel('Transactions')\n",
    "\n",
    "ax.plot(x, group_sorted['item_cnt_day']['sum'], 'b--', label='items bought')\n",
    "ax.plot(x, group_sorted['item_cnt_day']['sum'], 'bo')\n",
    "ax.set_xticks(x)\n",
    "ax.set_xticklabels(group_sorted['date'], rotation=60)\n",
    "ax.grid()\n",
    "\n",
    "ax.legend()\n",
    "\n",
    "plt.show()"
   ]
  },
  {
   "cell_type": "markdown",
   "metadata": {},
   "source": [
    "Items per day count distributions. Using this we can see some outliers and remove them later."
   ]
  },
  {
   "cell_type": "code",
   "execution_count": 18,
   "metadata": {},
   "outputs": [
    {
     "data": {
      "image/png": "[encoded data removed]",
      "text/plain": [
       "<Figure size 432x288 with 1 Axes>"
      ]
     },
     "metadata": {},
     "output_type": "display_data"
    }
   ],
   "source": [
    "import seaborn as sns\n",
    "import matplotlib.pyplot as plt\n",
    "\n",
    "plt.boxplot(sales_train['item_cnt_day'],vert=False, whis=0.75);"
   ]
  },
  {
   "cell_type": "markdown",
   "metadata": {},
   "source": [
    "Items prices distributions. Using this we can see some outliers and remove them later."
   ]
  },
  {
   "cell_type": "code",
   "execution_count": 20,
   "metadata": {},
   "outputs": [
    {
     "data": {
      "image/png": "[encoded data removed]",
      "text/plain": [
       "<Figure size 432x288 with 1 Axes>"
      ]
     },
     "metadata": {},
     "output_type": "display_data"
    }
   ],
   "source": [
    "import seaborn as sns\n",
    "import matplotlib.pyplot as plt\n",
    "\n",
    "plt.boxplot(sales_train['item_price'],vert=False, whis=0.75);"
   ]
  },
  {
   "cell_type": "markdown",
   "metadata": {},
   "source": [
    "From above looks like we have negative prices"
   ]
  },
  {
   "cell_type": "code",
   "execution_count": 21,
   "metadata": {},
   "outputs": [
    {
     "name": "stdout",
     "output_type": "stream",
     "text": [
      "count(item_price < 0) = 1\n"
     ]
    }
   ],
   "source": [
    "print(f\"count(item_price < 0) = {len(sales_train[sales_train['item_price'] < 0])}\")"
   ]
  },
  {
   "cell_type": "code",
   "execution_count": 22,
   "metadata": {},
   "outputs": [],
   "source": [
    "max_item_cnt = 800\n",
    "max_item_price = 8000"
   ]
  },
  {
   "cell_type": "code",
   "execution_count": 34,
   "metadata": {},
   "outputs": [
    {
     "name": "stdout",
     "output_type": "stream",
     "text": [
      "Doubled shop names = 0\n"
     ]
    }
   ],
   "source": [
    "shops_group = shops.groupby(by=['shop_name']).count().reset_index()\n",
    "dubled_shop_names = shops_group[shops_group['shop_id'] > 1]['shop_name']\n",
    "print(f\"Doubled shop names = {len(dubled_shop_names)}\")"
   ]
  },
  {
   "cell_type": "markdown",
   "metadata": {},
   "source": [
    "# Preprocess data"
   ]
  },
  {
   "cell_type": "code",
   "execution_count": 63,
   "metadata": {},
   "outputs": [],
   "source": [
    "sales_train = pd.read_csv(root + \"sales_train.csv\")\n",
    "\n",
    "\n",
    "sales_train = sales_train[sales_train.item_price<max_item_price]\n",
    "sales_train = sales_train[sales_train.item_cnt_day<max_item_cnt]\n",
    "\n",
    "[z_shop, z_item, z_date] = sales_train[sales_train['item_price'] < 0][['shop_id', 'item_id', 'date_block_num']].values[0]\n",
    "z_median_price = sales_train[(sales_train.shop_id==z_shop)&(sales_train.item_id==z_item)&(sales_train.date_block_num==z_date)&(sales_train.item_price>0)]['item_price'].median()\n",
    "sales_train.loc[sales_train.item_price<0, 'item_price'] = z_median_price"
   ]
  },
  {
   "cell_type": "markdown",
   "metadata": {},
   "source": [
    "Let's group all data by (date_block_num, shop_id, item_id). But we can't just group it by this date, because model wouldn't take into consideration missing data. But missing data would actually mean that this item into shop had no sales.\n",
    "\n",
    "For this I firstly created dataset with all unique combinations of item/shop/date_block_num and after filled this data from sales_train data."
   ]
  },
  {
   "cell_type": "code",
   "execution_count": 6,
   "metadata": {},
   "outputs": [],
   "source": [
    "from itertools import product\n",
    "\n",
    "def allUniqueCombinations(block_num, shops, items):\n",
    "    return np.array([*product([block_num],shops,items)])\n",
    "    \n",
    "sales_items_pre = []\n",
    "for i in range(34):\n",
    "    sales = sales_train[sales_train.date_block_num==i]\n",
    "    shops_ = sales['shop_id'].unique()\n",
    "    items_ = sales['item_id'].unique()\n",
    "    res = allUniqueCombinations(i,shops_,items_)\n",
    "    sales_items_pre.append(res)\n",
    "    \n",
    "sales_items_pre = pd.DataFrame(np.vstack(sales_items_pre), columns=['date_block_num','shop_id','item_id'])\n",
    "sales_items_pre = sales_items_pre.sort_values(['date_block_num','shop_id','item_id'])"
   ]
  },
  {
   "cell_type": "markdown",
   "metadata": {},
   "source": [
    "Group by month, because in test datgaset we have only month info.\n",
    "\n",
    "Create new field item_cnt_month"
   ]
  },
  {
   "cell_type": "code",
   "execution_count": 7,
   "metadata": {},
   "outputs": [],
   "source": [
    "sales_train_by_month = sales_train\\\n",
    "    .groupby(['date_block_num','shop_id','item_id'])\\\n",
    "    .agg({'item_cnt_day': 'sum'})\\\n",
    "    .reset_index()\\\n",
    "    .rename(columns={ 'item_cnt_day': 'item_cnt_month' })\n",
    "\n",
    "sales_train = pd.merge(sales_items_pre, sales_train_by_month, on=['date_block_num','shop_id','item_id'], how='left')"
   ]
  },
  {
   "cell_type": "markdown",
   "metadata": {},
   "source": [
    "Set date_block_num=34 for test dataset. - because that's next month after last one 33'th.\n",
    "\n",
    "Merge sales_train with test dataset. We do this to preprocess and generate features for train/valid/test datasets into same time\n",
    "\n",
    "Fill all missing data (NaN's) with 0. because missing data means no sales."
   ]
  },
  {
   "cell_type": "code",
   "execution_count": 8,
   "metadata": {},
   "outputs": [],
   "source": [
    "test['date_block_num'] = 34\n",
    "\n",
    "sales_train = pd.concat([sales_train, test], ignore_index=True, sort=False, keys=['date_block_num','shop_id','item_id'])\n",
    "sales_train = sales_train.fillna(0)\n",
    "sales_train = sales_train.drop(columns=['ID'])"
   ]
  },
  {
   "cell_type": "code",
   "execution_count": 9,
   "metadata": {},
   "outputs": [
    {
     "data": {
      "text/html": [
       "<div>\n",
       "<style scoped>\n",
       "    .dataframe tbody tr th:only-of-type {\n",
       "        vertical-align: middle;\n",
       "    }\n",
       "\n",
       "    .dataframe tbody tr th {\n",
       "        vertical-align: top;\n",
       "    }\n",
       "\n",
       "    .dataframe thead th {\n",
       "        text-align: right;\n",
       "    }\n",
       "</style>\n",
       "<table border=\"1\" class=\"dataframe\">\n",
       "  <thead>\n",
       "    <tr style=\"text-align: right;\">\n",
       "      <th></th>\n",
       "      <th>date_block_num</th>\n",
       "      <th>shop_id</th>\n",
       "      <th>item_id</th>\n",
       "      <th>item_cnt_month</th>\n",
       "    </tr>\n",
       "  </thead>\n",
       "  <tbody>\n",
       "    <tr>\n",
       "      <th>0</th>\n",
       "      <td>0</td>\n",
       "      <td>2</td>\n",
       "      <td>19</td>\n",
       "      <td>0.0</td>\n",
       "    </tr>\n",
       "    <tr>\n",
       "      <th>1</th>\n",
       "      <td>0</td>\n",
       "      <td>2</td>\n",
       "      <td>27</td>\n",
       "      <td>1.0</td>\n",
       "    </tr>\n",
       "    <tr>\n",
       "      <th>2</th>\n",
       "      <td>0</td>\n",
       "      <td>2</td>\n",
       "      <td>28</td>\n",
       "      <td>0.0</td>\n",
       "    </tr>\n",
       "    <tr>\n",
       "      <th>3</th>\n",
       "      <td>0</td>\n",
       "      <td>2</td>\n",
       "      <td>29</td>\n",
       "      <td>0.0</td>\n",
       "    </tr>\n",
       "    <tr>\n",
       "      <th>4</th>\n",
       "      <td>0</td>\n",
       "      <td>2</td>\n",
       "      <td>32</td>\n",
       "      <td>0.0</td>\n",
       "    </tr>\n",
       "  </tbody>\n",
       "</table>\n",
       "</div>"
      ],
      "text/plain": [
       "   date_block_num  shop_id  item_id  item_cnt_month\n",
       "0               0        2       19             0.0\n",
       "1               0        2       27             1.0\n",
       "2               0        2       28             0.0\n",
       "3               0        2       29             0.0\n",
       "4               0        2       32             0.0"
      ]
     },
     "execution_count": 9,
     "metadata": {},
     "output_type": "execute_result"
    }
   ],
   "source": [
    "sales_train.head()"
   ]
  },
  {
   "cell_type": "markdown",
   "metadata": {},
   "source": [
    "## Feature creation"
   ]
  },
  {
   "cell_type": "markdown",
   "metadata": {},
   "source": [
    "Month of the year"
   ]
  },
  {
   "cell_type": "code",
   "execution_count": 10,
   "metadata": {},
   "outputs": [],
   "source": [
    "sales_train['month'] = sales_train['date_block_num'] % 12\n",
    "\n",
    "sales_train = pd.merge(sales_train, items, how='left', on='item_id')\n",
    "sales_train = pd.merge(sales_train, shops, how='left', on='shop_id')\n",
    "# remove extra field\n",
    "sales_train = sales_train.drop(columns=['item_name'])"
   ]
  },
  {
   "cell_type": "markdown",
   "metadata": {},
   "source": [
    "Helper functions:\n",
    "1. addLaggFeature - create lagging features. This features represents some feature values in previous periods. For example 1,2,3,6,12 months ago. This is usefull for timeseries when we know that there is some correlation with time\n",
    "2. lagFeatureCombinations - create meanencoding feature based on some set of categories and use addLaggFeature for this feature."
   ]
  },
  {
   "cell_type": "code",
   "execution_count": 11,
   "metadata": {},
   "outputs": [],
   "source": [
    "def addLaggFeature(sales_train, colName, lags):\n",
    "    res = sales_train.copy()\n",
    "    for lag in lags:\n",
    "        # create copy of df\n",
    "        group_shifted = res.copy()\n",
    "        # change it's date_block_num by lag\n",
    "        group_shifted['date_block_num'] = group_shifted['date_block_num'] + lag\n",
    "        group_shifted = group_shifted[['date_block_num','shop_id','item_id', colName]]\n",
    "        group_shifted.columns = ['date_block_num','shop_id','item_id', f\"{colName}_lag_{lag}\"]\n",
    "        # merge by date_block_num\n",
    "        res = pd.merge(res, group_shifted, on=['date_block_num','shop_id','item_id'] ,how='left')\n",
    "    return res\n",
    "\n",
    "def lagFeatureCombinations(sales_train, features=['date_block_num'], lags=[1], targetLagging='item_cnt_month', op='mean'):\n",
    "    new_col_name = '_'.join(features) + '__' + targetLagging\n",
    "    group = sales_train.groupby(features).agg({targetLagging: op}).reset_index().rename(columns={ targetLagging: new_col_name })\n",
    "    sales_train = pd.merge(sales_train, group, on=features, how='left')\n",
    "    sales_train = addLaggFeature(sales_train, new_col_name, lags)\n",
    "    # We stay only lagging features\n",
    "    sales_train = sales_train.drop(columns=[new_col_name])\n",
    "    return sales_train"
   ]
  },
  {
   "cell_type": "markdown",
   "metadata": {},
   "source": [
    "Create lagging features for item_cnt_month column.\n",
    "\n",
    "item_cnt_month_lag_1, item_cnt_month_lag_2, item_cnt_month_lag_3, item_cnt_month_lag_6, item_cnt_month_lag_12 - features created. They represents what was the item_cnt_month value for selected item 1,2,3,6,12 months"
   ]
  },
  {
   "cell_type": "code",
   "execution_count": 12,
   "metadata": {},
   "outputs": [
    {
     "data": {
      "text/html": [
       "<div>\n",
       "<style scoped>\n",
       "    .dataframe tbody tr th:only-of-type {\n",
       "        vertical-align: middle;\n",
       "    }\n",
       "\n",
       "    .dataframe tbody tr th {\n",
       "        vertical-align: top;\n",
       "    }\n",
       "\n",
       "    .dataframe thead th {\n",
       "        text-align: right;\n",
       "    }\n",
       "</style>\n",
       "<table border=\"1\" class=\"dataframe\">\n",
       "  <thead>\n",
       "    <tr style=\"text-align: right;\">\n",
       "      <th></th>\n",
       "      <th>date_block_num</th>\n",
       "      <th>shop_id</th>\n",
       "      <th>item_id</th>\n",
       "      <th>item_cnt_month</th>\n",
       "      <th>month</th>\n",
       "      <th>item_category_id</th>\n",
       "      <th>shop_name</th>\n",
       "      <th>item_cnt_month_lag_1</th>\n",
       "      <th>item_cnt_month_lag_2</th>\n",
       "      <th>item_cnt_month_lag_3</th>\n",
       "      <th>item_cnt_month_lag_6</th>\n",
       "      <th>item_cnt_month_lag_12</th>\n",
       "    </tr>\n",
       "  </thead>\n",
       "  <tbody>\n",
       "    <tr>\n",
       "      <th>4836056</th>\n",
       "      <td>13</td>\n",
       "      <td>2</td>\n",
       "      <td>30</td>\n",
       "      <td>0.0</td>\n",
       "      <td>1</td>\n",
       "      <td>40</td>\n",
       "      <td>Адыгея ТЦ \"Мега\"</td>\n",
       "      <td>0.0</td>\n",
       "      <td>0.0</td>\n",
       "      <td>0.0</td>\n",
       "      <td>0.0</td>\n",
       "      <td>0.0</td>\n",
       "    </tr>\n",
       "    <tr>\n",
       "      <th>4836057</th>\n",
       "      <td>13</td>\n",
       "      <td>2</td>\n",
       "      <td>31</td>\n",
       "      <td>0.0</td>\n",
       "      <td>1</td>\n",
       "      <td>37</td>\n",
       "      <td>Адыгея ТЦ \"Мега\"</td>\n",
       "      <td>0.0</td>\n",
       "      <td>0.0</td>\n",
       "      <td>0.0</td>\n",
       "      <td>0.0</td>\n",
       "      <td>4.0</td>\n",
       "    </tr>\n",
       "    <tr>\n",
       "      <th>4836058</th>\n",
       "      <td>13</td>\n",
       "      <td>2</td>\n",
       "      <td>32</td>\n",
       "      <td>0.0</td>\n",
       "      <td>1</td>\n",
       "      <td>40</td>\n",
       "      <td>Адыгея ТЦ \"Мега\"</td>\n",
       "      <td>1.0</td>\n",
       "      <td>0.0</td>\n",
       "      <td>0.0</td>\n",
       "      <td>0.0</td>\n",
       "      <td>0.0</td>\n",
       "    </tr>\n",
       "    <tr>\n",
       "      <th>4836059</th>\n",
       "      <td>13</td>\n",
       "      <td>2</td>\n",
       "      <td>33</td>\n",
       "      <td>0.0</td>\n",
       "      <td>1</td>\n",
       "      <td>37</td>\n",
       "      <td>Адыгея ТЦ \"Мега\"</td>\n",
       "      <td>1.0</td>\n",
       "      <td>1.0</td>\n",
       "      <td>2.0</td>\n",
       "      <td>0.0</td>\n",
       "      <td>0.0</td>\n",
       "    </tr>\n",
       "    <tr>\n",
       "      <th>4836060</th>\n",
       "      <td>13</td>\n",
       "      <td>2</td>\n",
       "      <td>34</td>\n",
       "      <td>0.0</td>\n",
       "      <td>1</td>\n",
       "      <td>40</td>\n",
       "      <td>Адыгея ТЦ \"Мега\"</td>\n",
       "      <td>0.0</td>\n",
       "      <td>0.0</td>\n",
       "      <td>0.0</td>\n",
       "      <td>0.0</td>\n",
       "      <td>0.0</td>\n",
       "    </tr>\n",
       "  </tbody>\n",
       "</table>\n",
       "</div>"
      ],
      "text/plain": [
       "         date_block_num  shop_id  item_id  item_cnt_month  month  \\\n",
       "4836056              13        2       30             0.0      1   \n",
       "4836057              13        2       31             0.0      1   \n",
       "4836058              13        2       32             0.0      1   \n",
       "4836059              13        2       33             0.0      1   \n",
       "4836060              13        2       34             0.0      1   \n",
       "\n",
       "         item_category_id         shop_name  item_cnt_month_lag_1  \\\n",
       "4836056                40  Адыгея ТЦ \"Мега\"                   0.0   \n",
       "4836057                37  Адыгея ТЦ \"Мега\"                   0.0   \n",
       "4836058                40  Адыгея ТЦ \"Мега\"                   1.0   \n",
       "4836059                37  Адыгея ТЦ \"Мега\"                   1.0   \n",
       "4836060                40  Адыгея ТЦ \"Мега\"                   0.0   \n",
       "\n",
       "         item_cnt_month_lag_2  item_cnt_month_lag_3  item_cnt_month_lag_6  \\\n",
       "4836056                   0.0                   0.0                   0.0   \n",
       "4836057                   0.0                   0.0                   0.0   \n",
       "4836058                   0.0                   0.0                   0.0   \n",
       "4836059                   1.0                   2.0                   0.0   \n",
       "4836060                   0.0                   0.0                   0.0   \n",
       "\n",
       "         item_cnt_month_lag_12  \n",
       "4836056                    0.0  \n",
       "4836057                    4.0  \n",
       "4836058                    0.0  \n",
       "4836059                    0.0  \n",
       "4836060                    0.0  "
      ]
     },
     "execution_count": 12,
     "metadata": {},
     "output_type": "execute_result"
    }
   ],
   "source": [
    "sales_train = addLaggFeature(sales_train, 'item_cnt_month', [1,2,3,6,12])\n",
    "sales_train[sales_train['date_block_num'] > 12].head()"
   ]
  },
  {
   "cell_type": "markdown",
   "metadata": {},
   "source": [
    "Shop_name column has interesting pattern. Its value can be represented as \"{city} {shop_name}\" formula. let's extract these values."
   ]
  },
  {
   "cell_type": "code",
   "execution_count": 13,
   "metadata": {},
   "outputs": [],
   "source": [
    "# 1 shop has exception into filename\n",
    "sales_train.loc[sales_train.shop_name == 'Сергиев Посад ТЦ \"7Я\"', 'shop_name'] = 'Сергиев-Посад ТЦ \"7Я\"'\n",
    "# split by \" \"\n",
    "shop_name_split = sales_train['shop_name'].str.split(' ', n=2, expand = True)\n",
    "\n",
    "sales_train['city'] = shop_name_split[0]\n",
    "sales_train['shop_full_name'] = sales_train['shop_name']\n",
    "sales_train['shop_name'] = shop_name_split[1]"
   ]
  },
  {
   "cell_type": "markdown",
   "metadata": {},
   "source": [
    "Item category names also has a pattern. It can be represented as \"{type1} {type2}\" where type1 is a category type and type2 - sub_category."
   ]
  },
  {
   "cell_type": "code",
   "execution_count": 14,
   "metadata": {},
   "outputs": [],
   "source": [
    "sales_train = pd.merge(sales_train, item_categories, how='left', on=['item_category_id'])\n",
    "\n",
    "category_split = sales_train['item_category_name'].str.split('-', n=2, expand = True)\n",
    "sales_train['item_category_type'] = category_split[0]"
   ]
  },
  {
   "cell_type": "markdown",
   "metadata": {},
   "source": [
    "Mean encoding + lagging.\n",
    "\n",
    "Here I'm making advanced features. I group data by different categorical features, calculate mean value for item_cnt_month and add lagging fields for this mean field.\n",
    "\n",
    "This gives to the model good time series representation for a row."
   ]
  },
  {
   "cell_type": "code",
   "execution_count": 15,
   "metadata": {},
   "outputs": [
    {
     "data": {
      "text/plain": [
       "12"
      ]
     },
     "execution_count": 15,
     "metadata": {},
     "output_type": "execute_result"
    }
   ],
   "source": [
    "import gc\n",
    "del sales_items_pre\n",
    "del category_split\n",
    "del shop_name_split\n",
    "del sales_train_by_month\n",
    "gc.collect()"
   ]
  },
  {
   "cell_type": "code",
   "execution_count": 16,
   "metadata": {},
   "outputs": [
    {
     "name": "stdout",
     "output_type": "stream",
     "text": [
      "1 - 46.70690894126892\n",
      "2 - 153.60261416435242\n",
      "3 - 271.69831919670105\n",
      "4 - 317.74946808815\n",
      "5 - 365.23693919181824\n",
      "6 - 417.2538890838623\n",
      "7 - 472.48725724220276\n",
      "8 - 533.2159559726715\n",
      "9 - 588.2421650886536\n"
     ]
    },
    {
     "data": {
      "text/html": [
       "<div>\n",
       "<style scoped>\n",
       "    .dataframe tbody tr th:only-of-type {\n",
       "        vertical-align: middle;\n",
       "    }\n",
       "\n",
       "    .dataframe tbody tr th {\n",
       "        vertical-align: top;\n",
       "    }\n",
       "\n",
       "    .dataframe thead th {\n",
       "        text-align: right;\n",
       "    }\n",
       "</style>\n",
       "<table border=\"1\" class=\"dataframe\">\n",
       "  <thead>\n",
       "    <tr style=\"text-align: right;\">\n",
       "      <th></th>\n",
       "      <th>date_block_num</th>\n",
       "      <th>shop_id</th>\n",
       "      <th>item_id</th>\n",
       "      <th>item_cnt_month</th>\n",
       "      <th>month</th>\n",
       "      <th>item_category_id</th>\n",
       "      <th>shop_name</th>\n",
       "      <th>item_cnt_month_lag_1</th>\n",
       "      <th>item_cnt_month_lag_2</th>\n",
       "      <th>item_cnt_month_lag_3</th>\n",
       "      <th>...</th>\n",
       "      <th>date_block_num_shop_id__item_cnt_month_lag_1</th>\n",
       "      <th>date_block_num_shop_id__item_cnt_month_lag_3</th>\n",
       "      <th>date_block_num_shop_id__item_cnt_month_lag_6</th>\n",
       "      <th>date_block_num_shop_id__item_cnt_month_lag_12</th>\n",
       "      <th>date_block_num_item_category_id__item_cnt_month_lag_1</th>\n",
       "      <th>date_block_num_shop_id_item_category_id__item_cnt_month_lag_1</th>\n",
       "      <th>date_block_num_shop_id_item_category_type__item_cnt_month_lag_1</th>\n",
       "      <th>date_block_num_city__item_cnt_month_lag_1</th>\n",
       "      <th>date_block_num_item_id_city__item_cnt_month_lag_1</th>\n",
       "      <th>date_block_num_item_category_type__item_cnt_month_lag_1</th>\n",
       "    </tr>\n",
       "  </thead>\n",
       "  <tbody>\n",
       "    <tr>\n",
       "      <th>4488710</th>\n",
       "      <td>12</td>\n",
       "      <td>2</td>\n",
       "      <td>27</td>\n",
       "      <td>0.0</td>\n",
       "      <td>0</td>\n",
       "      <td>19</td>\n",
       "      <td>ТЦ</td>\n",
       "      <td>0.0</td>\n",
       "      <td>0.0</td>\n",
       "      <td>0.0</td>\n",
       "      <td>...</td>\n",
       "      <td>0.156025</td>\n",
       "      <td>0.098893</td>\n",
       "      <td>0.096014</td>\n",
       "      <td>0.14122</td>\n",
       "      <td>1.181682</td>\n",
       "      <td>0.965636</td>\n",
       "      <td>0.814706</td>\n",
       "      <td>0.156025</td>\n",
       "      <td>0.0</td>\n",
       "      <td>1.125096</td>\n",
       "    </tr>\n",
       "    <tr>\n",
       "      <th>4488711</th>\n",
       "      <td>12</td>\n",
       "      <td>2</td>\n",
       "      <td>30</td>\n",
       "      <td>0.0</td>\n",
       "      <td>0</td>\n",
       "      <td>40</td>\n",
       "      <td>ТЦ</td>\n",
       "      <td>0.0</td>\n",
       "      <td>0.0</td>\n",
       "      <td>0.0</td>\n",
       "      <td>...</td>\n",
       "      <td>0.156025</td>\n",
       "      <td>0.098893</td>\n",
       "      <td>0.096014</td>\n",
       "      <td>NaN</td>\n",
       "      <td>0.309148</td>\n",
       "      <td>0.046246</td>\n",
       "      <td>0.051719</td>\n",
       "      <td>0.156025</td>\n",
       "      <td>0.0</td>\n",
       "      <td>0.281054</td>\n",
       "    </tr>\n",
       "    <tr>\n",
       "      <th>4488712</th>\n",
       "      <td>12</td>\n",
       "      <td>2</td>\n",
       "      <td>31</td>\n",
       "      <td>0.0</td>\n",
       "      <td>0</td>\n",
       "      <td>37</td>\n",
       "      <td>ТЦ</td>\n",
       "      <td>0.0</td>\n",
       "      <td>0.0</td>\n",
       "      <td>0.0</td>\n",
       "      <td>...</td>\n",
       "      <td>0.156025</td>\n",
       "      <td>0.098893</td>\n",
       "      <td>0.096014</td>\n",
       "      <td>NaN</td>\n",
       "      <td>0.234054</td>\n",
       "      <td>0.059459</td>\n",
       "      <td>0.051719</td>\n",
       "      <td>0.156025</td>\n",
       "      <td>0.0</td>\n",
       "      <td>0.281054</td>\n",
       "    </tr>\n",
       "    <tr>\n",
       "      <th>4488713</th>\n",
       "      <td>12</td>\n",
       "      <td>2</td>\n",
       "      <td>32</td>\n",
       "      <td>1.0</td>\n",
       "      <td>0</td>\n",
       "      <td>40</td>\n",
       "      <td>ТЦ</td>\n",
       "      <td>0.0</td>\n",
       "      <td>0.0</td>\n",
       "      <td>0.0</td>\n",
       "      <td>...</td>\n",
       "      <td>0.156025</td>\n",
       "      <td>0.098893</td>\n",
       "      <td>0.096014</td>\n",
       "      <td>0.14122</td>\n",
       "      <td>0.309148</td>\n",
       "      <td>0.046246</td>\n",
       "      <td>0.051719</td>\n",
       "      <td>0.156025</td>\n",
       "      <td>0.0</td>\n",
       "      <td>0.281054</td>\n",
       "    </tr>\n",
       "    <tr>\n",
       "      <th>4488714</th>\n",
       "      <td>12</td>\n",
       "      <td>2</td>\n",
       "      <td>33</td>\n",
       "      <td>1.0</td>\n",
       "      <td>0</td>\n",
       "      <td>37</td>\n",
       "      <td>ТЦ</td>\n",
       "      <td>1.0</td>\n",
       "      <td>2.0</td>\n",
       "      <td>0.0</td>\n",
       "      <td>...</td>\n",
       "      <td>0.156025</td>\n",
       "      <td>0.098893</td>\n",
       "      <td>0.096014</td>\n",
       "      <td>0.14122</td>\n",
       "      <td>0.234054</td>\n",
       "      <td>0.059459</td>\n",
       "      <td>0.051719</td>\n",
       "      <td>0.156025</td>\n",
       "      <td>1.0</td>\n",
       "      <td>0.281054</td>\n",
       "    </tr>\n",
       "  </tbody>\n",
       "</table>\n",
       "<p>5 rows × 31 columns</p>\n",
       "</div>"
      ],
      "text/plain": [
       "         date_block_num  shop_id  item_id  item_cnt_month  month  \\\n",
       "4488710              12        2       27             0.0      0   \n",
       "4488711              12        2       30             0.0      0   \n",
       "4488712              12        2       31             0.0      0   \n",
       "4488713              12        2       32             1.0      0   \n",
       "4488714              12        2       33             1.0      0   \n",
       "\n",
       "         item_category_id shop_name  item_cnt_month_lag_1  \\\n",
       "4488710                19        ТЦ                   0.0   \n",
       "4488711                40        ТЦ                   0.0   \n",
       "4488712                37        ТЦ                   0.0   \n",
       "4488713                40        ТЦ                   0.0   \n",
       "4488714                37        ТЦ                   1.0   \n",
       "\n",
       "         item_cnt_month_lag_2  item_cnt_month_lag_3  ...  \\\n",
       "4488710                   0.0                   0.0  ...   \n",
       "4488711                   0.0                   0.0  ...   \n",
       "4488712                   0.0                   0.0  ...   \n",
       "4488713                   0.0                   0.0  ...   \n",
       "4488714                   2.0                   0.0  ...   \n",
       "\n",
       "         date_block_num_shop_id__item_cnt_month_lag_1  \\\n",
       "4488710                                      0.156025   \n",
       "4488711                                      0.156025   \n",
       "4488712                                      0.156025   \n",
       "4488713                                      0.156025   \n",
       "4488714                                      0.156025   \n",
       "\n",
       "         date_block_num_shop_id__item_cnt_month_lag_3  \\\n",
       "4488710                                      0.098893   \n",
       "4488711                                      0.098893   \n",
       "4488712                                      0.098893   \n",
       "4488713                                      0.098893   \n",
       "4488714                                      0.098893   \n",
       "\n",
       "        date_block_num_shop_id__item_cnt_month_lag_6  \\\n",
       "4488710                                     0.096014   \n",
       "4488711                                     0.096014   \n",
       "4488712                                     0.096014   \n",
       "4488713                                     0.096014   \n",
       "4488714                                     0.096014   \n",
       "\n",
       "        date_block_num_shop_id__item_cnt_month_lag_12  \\\n",
       "4488710                                       0.14122   \n",
       "4488711                                           NaN   \n",
       "4488712                                           NaN   \n",
       "4488713                                       0.14122   \n",
       "4488714                                       0.14122   \n",
       "\n",
       "        date_block_num_item_category_id__item_cnt_month_lag_1  \\\n",
       "4488710                                           1.181682      \n",
       "4488711                                           0.309148      \n",
       "4488712                                           0.234054      \n",
       "4488713                                           0.309148      \n",
       "4488714                                           0.234054      \n",
       "\n",
       "        date_block_num_shop_id_item_category_id__item_cnt_month_lag_1  \\\n",
       "4488710                                           0.965636              \n",
       "4488711                                           0.046246              \n",
       "4488712                                           0.059459              \n",
       "4488713                                           0.046246              \n",
       "4488714                                           0.059459              \n",
       "\n",
       "         date_block_num_shop_id_item_category_type__item_cnt_month_lag_1  \\\n",
       "4488710                                           0.814706                 \n",
       "4488711                                           0.051719                 \n",
       "4488712                                           0.051719                 \n",
       "4488713                                           0.051719                 \n",
       "4488714                                           0.051719                 \n",
       "\n",
       "         date_block_num_city__item_cnt_month_lag_1  \\\n",
       "4488710                                   0.156025   \n",
       "4488711                                   0.156025   \n",
       "4488712                                   0.156025   \n",
       "4488713                                   0.156025   \n",
       "4488714                                   0.156025   \n",
       "\n",
       "         date_block_num_item_id_city__item_cnt_month_lag_1  \\\n",
       "4488710                                                0.0   \n",
       "4488711                                                0.0   \n",
       "4488712                                                0.0   \n",
       "4488713                                                0.0   \n",
       "4488714                                                1.0   \n",
       "\n",
       "         date_block_num_item_category_type__item_cnt_month_lag_1  \n",
       "4488710                                           1.125096        \n",
       "4488711                                           0.281054        \n",
       "4488712                                           0.281054        \n",
       "4488713                                           0.281054        \n",
       "4488714                                           0.281054        \n",
       "\n",
       "[5 rows x 31 columns]"
      ]
     },
     "execution_count": 16,
     "metadata": {},
     "output_type": "execute_result"
    }
   ],
   "source": [
    "import time\n",
    "ts = time.time()\n",
    "done = 0\n",
    "def times():\n",
    "    global done\n",
    "    done = done + 1\n",
    "    return done\n",
    "\n",
    "all_year_lags = [1,3,6,12]\n",
    "\n",
    "sales_train = lagFeatureCombinations(sales_train, features=['date_block_num'])\n",
    "print(f\"{times()} - {time.time() - ts}\")\n",
    "sales_train = lagFeatureCombinations(sales_train, features=['date_block_num', 'item_id'], lags=all_year_lags)\n",
    "print(f\"{times()} - {time.time() - ts}\")\n",
    "sales_train = lagFeatureCombinations(sales_train, features=['date_block_num', 'shop_id'], lags=all_year_lags)\n",
    "print(f\"{times()} - {time.time() - ts}\")\n",
    "sales_train = lagFeatureCombinations(sales_train, features=['date_block_num', 'item_category_id'],)\n",
    "print(f\"{times()} - {time.time() - ts}\")\n",
    "sales_train = lagFeatureCombinations(sales_train, features=['date_block_num', 'shop_id', 'item_category_id'],)\n",
    "print(f\"{times()} - {time.time() - ts}\")\n",
    "sales_train = lagFeatureCombinations(sales_train, features=['date_block_num', 'shop_id', 'item_category_type'],)\n",
    "print(f\"{times()} - {time.time() - ts}\")\n",
    "sales_train = lagFeatureCombinations(sales_train, features=['date_block_num', 'city'],)\n",
    "print(f\"{times()} - {time.time() - ts}\")\n",
    "sales_train = lagFeatureCombinations(sales_train, features=['date_block_num', 'item_id', 'city'],)\n",
    "print(f\"{times()} - {time.time() - ts}\")\n",
    "sales_train = lagFeatureCombinations(sales_train, features=['date_block_num', 'item_category_type'],)\n",
    "print(f\"{times()} - {time.time() - ts}\")\n",
    "\n",
    "sales_train[sales_train['date_block_num'] > 11].head()"
   ]
  },
  {
   "cell_type": "markdown",
   "metadata": {},
   "source": [
    "Let's look at the dataset know"
   ]
  },
  {
   "cell_type": "code",
   "execution_count": 18,
   "metadata": {},
   "outputs": [
    {
     "name": "stdout",
     "output_type": "stream",
     "text": [
      "<class 'pandas.core.frame.DataFrame'>\n",
      "Int64Index: 11128004 entries, 0 to 11128003\n",
      "Data columns (total 31 columns):\n",
      " #   Column                                                           Dtype  \n",
      "---  ------                                                           -----  \n",
      " 0   date_block_num                                                   int64  \n",
      " 1   shop_id                                                          int64  \n",
      " 2   item_id                                                          int64  \n",
      " 3   item_cnt_month                                                   float64\n",
      " 4   month                                                            int64  \n",
      " 5   item_category_id                                                 int64  \n",
      " 6   shop_name                                                        object \n",
      " 7   item_cnt_month_lag_1                                             float64\n",
      " 8   item_cnt_month_lag_2                                             float64\n",
      " 9   item_cnt_month_lag_3                                             float64\n",
      " 10  item_cnt_month_lag_6                                             float64\n",
      " 11  item_cnt_month_lag_12                                            float64\n",
      " 12  city                                                             object \n",
      " 13  shop_full_name                                                   object \n",
      " 14  item_category_name                                               object \n",
      " 15  item_category_type                                               object \n",
      " 16  date_block_num__item_cnt_month_lag_1                             float64\n",
      " 17  date_block_num_item_id__item_cnt_month_lag_1                     float64\n",
      " 18  date_block_num_item_id__item_cnt_month_lag_3                     float64\n",
      " 19  date_block_num_item_id__item_cnt_month_lag_6                     float64\n",
      " 20  date_block_num_item_id__item_cnt_month_lag_12                    float64\n",
      " 21  date_block_num_shop_id__item_cnt_month_lag_1                     float64\n",
      " 22  date_block_num_shop_id__item_cnt_month_lag_3                     float64\n",
      " 23  date_block_num_shop_id__item_cnt_month_lag_6                     float64\n",
      " 24  date_block_num_shop_id__item_cnt_month_lag_12                    float64\n",
      " 25  date_block_num_item_category_id__item_cnt_month_lag_1            float64\n",
      " 26  date_block_num_shop_id_item_category_id__item_cnt_month_lag_1    float64\n",
      " 27  date_block_num_shop_id_item_category_type__item_cnt_month_lag_1  float64\n",
      " 28  date_block_num_city__item_cnt_month_lag_1                        float64\n",
      " 29  date_block_num_item_id_city__item_cnt_month_lag_1                float64\n",
      " 30  date_block_num_item_category_type__item_cnt_month_lag_1          float64\n",
      "dtypes: float64(21), int64(5), object(5)\n",
      "memory usage: 2.7+ GB\n"
     ]
    }
   ],
   "source": [
    "sales_train.info()"
   ]
  },
  {
   "cell_type": "markdown",
   "metadata": {},
   "source": [
    "Encode string values. Shop name, category name, etc.."
   ]
  },
  {
   "cell_type": "code",
   "execution_count": 19,
   "metadata": {},
   "outputs": [],
   "source": [
    "sales_train['shop_name'] = LabelEncoder().fit_transform(sales_train['shop_name'])\n",
    "sales_train['city'] = LabelEncoder().fit_transform(sales_train['city'])\n",
    "sales_train['shop_full_name'] = LabelEncoder().fit_transform(sales_train['shop_full_name'])\n",
    "sales_train['item_category_name'] = LabelEncoder().fit_transform(sales_train['item_category_name'])\n",
    "sales_train['item_category_type'] = LabelEncoder().fit_transform(sales_train['item_category_type'])"
   ]
  },
  {
   "cell_type": "markdown",
   "metadata": {},
   "source": [
    "As the max value for lagging was 12. That make no sense for using data that had not at least 1 year of history.\n",
    "\n",
    "So I basically cut att data before 11 date_block_num\n",
    "\n",
    "And fill NaN values with zeros"
   ]
  },
  {
   "cell_type": "code",
   "execution_count": 20,
   "metadata": {},
   "outputs": [],
   "source": [
    "sales_train = sales_train[sales_train['date_block_num'] > 11]\n",
    "sales_train = sales_train.fillna(0)"
   ]
  },
  {
   "cell_type": "code",
   "execution_count": 21,
   "metadata": {},
   "outputs": [],
   "source": [
    "sales_train.to_pickle('sales_train.pkl')"
   ]
  },
  {
   "cell_type": "code",
   "execution_count": 2,
   "metadata": {},
   "outputs": [],
   "source": [
    "import pandas as pd\n",
    "sales_train = pd.read_pickle('sales_train.pkl')"
   ]
  },
  {
   "cell_type": "markdown",
   "metadata": {},
   "source": [
    "Test/val split"
   ]
  },
  {
   "cell_type": "code",
   "execution_count": 22,
   "metadata": {},
   "outputs": [],
   "source": [
    "def trainTestSplit(sales_train):\n",
    "    y_column = 'item_cnt_month'\n",
    "    x_cols = sales_train.columns.values[sales_train.columns.values != y_column]\n",
    "    test_date_block_num = 33\n",
    "\n",
    "    train_df = sales_train[sales_train['date_block_num'] < test_date_block_num]\n",
    "    test_df = sales_train[sales_train['date_block_num'] == test_date_block_num]\n",
    "\n",
    "    return ((train_df[x_cols], train_df[y_column]), (test_df[x_cols], test_df[y_column]))"
   ]
  },
  {
   "cell_type": "code",
   "execution_count": 23,
   "metadata": {},
   "outputs": [
    {
     "name": "stdout",
     "output_type": "stream",
     "text": [
      "X_train = (6186922, 29)\n",
      "y_train = (6186922,)\n",
      "X_test  = (238172, 29)\n",
      "y_test  = (238172,)\n"
     ]
    }
   ],
   "source": [
    "((X_train, y_train), (X_test, y_test)) = trainTestSplit(sales_train)\n",
    "\n",
    "X_train = X_train.drop(columns=['date_block_num'])\n",
    "X_test = X_test.drop(columns=['date_block_num'])\n",
    "\n",
    "print(f\"X_train = {X_train.shape}\")\n",
    "print(f\"y_train = {y_train.shape}\")\n",
    "print(f\"X_test  = {X_test.shape}\")\n",
    "print(f\"y_test  = {y_test.shape}\")"
   ]
  },
  {
   "cell_type": "markdown",
   "metadata": {},
   "source": [
    "## Model"
   ]
  },
  {
   "cell_type": "markdown",
   "metadata": {},
   "source": [
    "I used XGBRegressor model. XgBoost build decision trees each based on limited categories each.\n",
    "\n",
    "And XGBRegressor because task we are solving is basically regression.\n",
    "\n",
    "Parameters were tunned manually without grid search or somiliar tools. I just used recommended parameters from the web ;)\n",
    "\n",
    "Optimized parameter is RMSE"
   ]
  },
  {
   "cell_type": "code",
   "execution_count": 26,
   "metadata": {},
   "outputs": [
    {
     "name": "stdout",
     "output_type": "stream",
     "text": [
      "\n",
      "[0]\tvalidation_0-rmse:1.15504\tvalidation_1-rmse:1.12395\n",
      "Multiple eval metrics have been passed: 'validation_1-rmse' will be used for early stopping.\n",
      "\n",
      "Will train until validation_1-rmse hasn't improved in 10 rounds.\n",
      "[1]\tvalidation_0-rmse:1.1122\tvalidation_1-rmse:1.09311\n",
      "[2]\tvalidation_0-rmse:1.07465\tvalidation_1-rmse:1.06668\n",
      "[3]\tvalidation_0-rmse:1.04326\tvalidation_1-rmse:1.04446\n",
      "[4]\tvalidation_0-rmse:1.01606\tvalidation_1-rmse:1.02567\n",
      "[5]\tvalidation_0-rmse:0.993152\tvalidation_1-rmse:1.01051\n",
      "[6]\tvalidation_0-rmse:0.974069\tvalidation_1-rmse:0.997706\n",
      "[7]\tvalidation_0-rmse:0.95752\tvalidation_1-rmse:0.987514\n",
      "[8]\tvalidation_0-rmse:0.942231\tvalidation_1-rmse:0.976281\n",
      "[9]\tvalidation_0-rmse:0.929654\tvalidation_1-rmse:0.966856\n",
      "[10]\tvalidation_0-rmse:0.919463\tvalidation_1-rmse:0.96114\n",
      "[11]\tvalidation_0-rmse:0.910269\tvalidation_1-rmse:0.955171\n",
      "[12]\tvalidation_0-rmse:0.902099\tvalidation_1-rmse:0.950399\n",
      "[13]\tvalidation_0-rmse:0.895039\tvalidation_1-rmse:0.946585\n",
      "[14]\tvalidation_0-rmse:0.889387\tvalidation_1-rmse:0.944201\n",
      "[15]\tvalidation_0-rmse:0.884121\tvalidation_1-rmse:0.941609\n",
      "[16]\tvalidation_0-rmse:0.879313\tvalidation_1-rmse:0.939596\n",
      "[17]\tvalidation_0-rmse:0.875769\tvalidation_1-rmse:0.938433\n",
      "[18]\tvalidation_0-rmse:0.872222\tvalidation_1-rmse:0.937296\n",
      "[19]\tvalidation_0-rmse:0.868965\tvalidation_1-rmse:0.936287\n",
      "[20]\tvalidation_0-rmse:0.866052\tvalidation_1-rmse:0.93508\n",
      "[21]\tvalidation_0-rmse:0.863635\tvalidation_1-rmse:0.93394\n",
      "[22]\tvalidation_0-rmse:0.861254\tvalidation_1-rmse:0.933697\n",
      "[23]\tvalidation_0-rmse:0.859149\tvalidation_1-rmse:0.932687\n",
      "[24]\tvalidation_0-rmse:0.857173\tvalidation_1-rmse:0.931943\n",
      "[25]\tvalidation_0-rmse:0.854973\tvalidation_1-rmse:0.931167\n",
      "[26]\tvalidation_0-rmse:0.85335\tvalidation_1-rmse:0.931133\n",
      "[27]\tvalidation_0-rmse:0.851898\tvalidation_1-rmse:0.930247\n",
      "[28]\tvalidation_0-rmse:0.850639\tvalidation_1-rmse:0.930188\n",
      "[29]\tvalidation_0-rmse:0.849415\tvalidation_1-rmse:0.929619\n",
      "[30]\tvalidation_0-rmse:0.848076\tvalidation_1-rmse:0.929268\n",
      "[31]\tvalidation_0-rmse:0.84659\tvalidation_1-rmse:0.928709\n",
      "[32]\tvalidation_0-rmse:0.845391\tvalidation_1-rmse:0.928422\n",
      "[33]\tvalidation_0-rmse:0.844095\tvalidation_1-rmse:0.928412\n",
      "[34]\tvalidation_0-rmse:0.843307\tvalidation_1-rmse:0.928257\n",
      "[35]\tvalidation_0-rmse:0.841797\tvalidation_1-rmse:0.928203\n",
      "[36]\tvalidation_0-rmse:0.840799\tvalidation_1-rmse:0.927985\n",
      "[37]\tvalidation_0-rmse:0.839412\tvalidation_1-rmse:0.92792\n",
      "[38]\tvalidation_0-rmse:0.838678\tvalidation_1-rmse:0.927888\n",
      "[39]\tvalidation_0-rmse:0.837732\tvalidation_1-rmse:0.927909\n",
      "[40]\tvalidation_0-rmse:0.83692\tvalidation_1-rmse:0.927742\n",
      "[41]\tvalidation_0-rmse:0.836335\tvalidation_1-rmse:0.927404\n",
      "[42]\tvalidation_0-rmse:0.835351\tvalidation_1-rmse:0.927041\n",
      "[43]\tvalidation_0-rmse:0.834431\tvalidation_1-rmse:0.925606\n",
      "[44]\tvalidation_0-rmse:0.833489\tvalidation_1-rmse:0.925323\n",
      "[45]\tvalidation_0-rmse:0.832765\tvalidation_1-rmse:0.925353\n",
      "[46]\tvalidation_0-rmse:0.832041\tvalidation_1-rmse:0.925076\n",
      "[47]\tvalidation_0-rmse:0.830713\tvalidation_1-rmse:0.924511\n",
      "[48]\tvalidation_0-rmse:0.829667\tvalidation_1-rmse:0.923486\n",
      "[49]\tvalidation_0-rmse:0.829274\tvalidation_1-rmse:0.923004\n",
      "[50]\tvalidation_0-rmse:0.828414\tvalidation_1-rmse:0.923309\n",
      "[51]\tvalidation_0-rmse:0.827998\tvalidation_1-rmse:0.923266\n",
      "[52]\tvalidation_0-rmse:0.827439\tvalidation_1-rmse:0.923118\n",
      "[53]\tvalidation_0-rmse:0.826741\tvalidation_1-rmse:0.922978\n",
      "[54]\tvalidation_0-rmse:0.826033\tvalidation_1-rmse:0.922221\n",
      "[55]\tvalidation_0-rmse:0.825562\tvalidation_1-rmse:0.922423\n",
      "[56]\tvalidation_0-rmse:0.825045\tvalidation_1-rmse:0.922771\n",
      "[57]\tvalidation_0-rmse:0.824275\tvalidation_1-rmse:0.922554\n",
      "[58]\tvalidation_0-rmse:0.824003\tvalidation_1-rmse:0.922537\n",
      "[59]\tvalidation_0-rmse:0.823105\tvalidation_1-rmse:0.92232\n",
      "[60]\tvalidation_0-rmse:0.822815\tvalidation_1-rmse:0.921618\n",
      "[61]\tvalidation_0-rmse:0.821933\tvalidation_1-rmse:0.921035\n",
      "[62]\tvalidation_0-rmse:0.821428\tvalidation_1-rmse:0.921123\n",
      "[63]\tvalidation_0-rmse:0.821118\tvalidation_1-rmse:0.920902\n",
      "[64]\tvalidation_0-rmse:0.820741\tvalidation_1-rmse:0.921113\n",
      "[65]\tvalidation_0-rmse:0.81983\tvalidation_1-rmse:0.921474\n",
      "[66]\tvalidation_0-rmse:0.819503\tvalidation_1-rmse:0.921531\n",
      "[67]\tvalidation_0-rmse:0.819359\tvalidation_1-rmse:0.921503\n",
      "[68]\tvalidation_0-rmse:0.818855\tvalidation_1-rmse:0.921286\n",
      "[69]\tvalidation_0-rmse:0.818562\tvalidation_1-rmse:0.921566\n",
      "[70]\tvalidation_0-rmse:0.818154\tvalidation_1-rmse:0.921512\n",
      "[71]\tvalidation_0-rmse:0.817599\tvalidation_1-rmse:0.921114\n",
      "[72]\tvalidation_0-rmse:0.817184\tvalidation_1-rmse:0.92187\n",
      "[73]\tvalidation_0-rmse:0.816942\tvalidation_1-rmse:0.922136\n",
      "Stopping. Best iteration:\n",
      "[63]\tvalidation_0-rmse:0.821118\tvalidation_1-rmse:0.920902\n",
      "\n",
      "1080.7265751361847\n",
      "\n"
     ]
    }
   ],
   "source": [
    "from xgboost import XGBRegressor\n",
    "import time\n",
    "\n",
    "ts = time.time()\n",
    "\n",
    "model = XGBRegressor(\n",
    "    max_depth=8,\n",
    "    n_estimators=200,\n",
    "    min_child_weight=8, \n",
    "    colsample_bytree=0.9, \n",
    "    subsample=0.9, \n",
    "    eta=0.25)\n",
    "\n",
    "model.fit(\n",
    "    X_train, \n",
    "    y_train, \n",
    "    eval_metric=\"rmse\",\n",
    "    eval_set=[(X_train, y_train), (X_test, y_test)], \n",
    "    verbose=True, \n",
    "    early_stopping_rounds = 10)\n",
    "\n",
    "time.time() - ts"
   ]
  },
  {
   "cell_type": "code",
   "execution_count": null,
   "metadata": {},
   "outputs": [],
   "source": [
    "X_submit = sales_train[sales_train['date_block_num'] == 34]\n",
    "X_submit = X_submit.drop(columns=['item_cnt_month','date_block_num'])"
   ]
  },
  {
   "cell_type": "code",
   "execution_count": null,
   "metadata": {},
   "outputs": [],
   "source": [
    "predicts = model.predict(X_submit)"
   ]
  },
  {
   "cell_type": "code",
   "execution_count": null,
   "metadata": {},
   "outputs": [],
   "source": [
    "sample_submission.head()"
   ]
  },
  {
   "cell_type": "code",
   "execution_count": null,
   "metadata": {},
   "outputs": [],
   "source": [
    "submit = sample_submission.copy()\n",
    "submit['item_cnt_month'] = predicts\n",
    "submit = submit.set_index('ID')\n",
    "submit.to_csv('submit.csv')"
   ]
  },
  {
   "cell_type": "code",
   "execution_count": null,
   "metadata": {},
   "outputs": [],
   "source": [
    "sales_train.to_pickle('sales_train.pkl')"
   ]
  },
  {
   "cell_type": "code",
   "execution_count": null,
   "metadata": {},
   "outputs": [],
   "source": []
  }
 ],
 "metadata": {
  "colab": {
   "collapsed_sections": [],
   "name": "final_project_kaggle.ipynb",
   "provenance": []
  },
  "kernelspec": {
   "display_name": "Python 3",
   "language": "python",
   "name": "python3"
  },
  "language_info": {
   "codemirror_mode": {
    "name": "ipython",
    "version": 3
   },
   "file_extension": ".py",
   "mimetype": "text/x-python",
   "name": "python",
   "nbconvert_exporter": "python",
   "pygments_lexer": "ipython3",
   "version": "3.6.8"
  },
  "widgets": {
   "application/vnd.jupyter.widget-state+json": {
    "20c49e2087c04f81b00af4da393cd0b0": {
     "model_module": "@jupyter-widgets/base",
     "model_name": "DOMWidgetModel",
     "state": {
      "_dom_classes": [],
      "_model_module": "@jupyter-widgets/base",
      "_model_module_version": "1.2.0",
      "_model_name": "DOMWidgetModel",
      "_view_count": null,
      "_view_module": "catboost_module",
      "_view_module_version": "",
      "_view_name": "CatboostIpythonWidgetView",
      "data": {
       "catboost_info": {
        "content": {
         "data": {
          "iterations": [
           {
            "iteration": 0,
            "learn": [
             8.450555288
            ],
            "passed_time": 1.565303257,
            "remaining_time": 311.4953481,
            "test": [
             14.50547324
            ]
           },
           {
            "iteration": 1,
            "learn": [
             8.410737448
            ],
            "passed_time": 2.464584072,
            "remaining_time": 243.9938231,
            "test": [
             14.47836649
            ]
           },
           {
            "iteration": 2,
            "learn": [
             8.371544947
            ],
            "passed_time": 3.756007225,
            "remaining_time": 246.6444745,
            "test": [
             14.45217858
            ]
           },
           {
            "iteration": 3,
            "learn": [
             8.332834919
            ],
            "passed_time": 4.469923376,
            "remaining_time": 219.0262454,
            "test": [
             14.42586136
            ]
           },
           {
            "iteration": 4,
            "learn": [
             8.294687191
            ],
            "passed_time": 5.373979141,
            "remaining_time": 209.5851865,
            "test": [
             14.40013321
            ]
           },
           {
            "iteration": 5,
            "learn": [
             8.257221206
            ],
            "passed_time": 6.267555097,
            "remaining_time": 202.6509481,
            "test": [
             14.37484939
            ]
           },
           {
            "iteration": 6,
            "learn": [
             8.220287874
            ],
            "passed_time": 7.175564865,
            "remaining_time": 197.8405741,
            "test": [
             14.34917196
            ]
           },
           {
            "iteration": 7,
            "learn": [
             8.183835641
            ],
            "passed_time": 8.089594006,
            "remaining_time": 194.1502561,
            "test": [
             14.32460614
            ]
           },
           {
            "iteration": 8,
            "learn": [
             8.147955154
            ],
            "passed_time": 8.967285788,
            "remaining_time": 190.3057317,
            "test": [
             14.30005094
            ]
           },
           {
            "iteration": 9,
            "learn": [
             8.112551105
            ],
            "passed_time": 9.852455882,
            "remaining_time": 187.1966618,
            "test": [
             14.27639922
            ]
           },
           {
            "iteration": 10,
            "learn": [
             8.077657177
            ],
            "passed_time": 10.73682078,
            "remaining_time": 184.4781025,
            "test": [
             14.25367333
            ]
           },
           {
            "iteration": 11,
            "learn": [
             8.045132508
            ],
            "passed_time": 11.6775131,
            "remaining_time": 182.9477052,
            "test": [
             14.23342018
            ]
           },
           {
            "iteration": 12,
            "learn": [
             8.010963987
            ],
            "passed_time": 13.1325166,
            "remaining_time": 188.9062003,
            "test": [
             14.2108598
            ]
           },
           {
            "iteration": 13,
            "learn": [
             7.977318543
            ],
            "passed_time": 14.01731988,
            "remaining_time": 186.2301069,
            "test": [
             14.1886377
            ]
           },
           {
            "iteration": 14,
            "learn": [
             7.946167092
            ],
            "passed_time": 14.92744666,
            "remaining_time": 184.1051755,
            "test": [
             14.1698629
            ]
           },
           {
            "iteration": 15,
            "learn": [
             7.913622732
            ],
            "passed_time": 15.76041215,
            "remaining_time": 181.2447397,
            "test": [
             14.14983984
            ]
           },
           {
            "iteration": 16,
            "learn": [
             7.881809748
            ],
            "passed_time": 16.57261471,
            "remaining_time": 178.3993231,
            "test": [
             14.12941
            ]
           },
           {
            "iteration": 17,
            "learn": [
             7.850312679
            ],
            "passed_time": 17.41741095,
            "remaining_time": 176.1093774,
            "test": [
             14.10914181
            ]
           },
           {
            "iteration": 18,
            "learn": [
             7.819717543
            ],
            "passed_time": 18.27489669,
            "remaining_time": 174.0924369,
            "test": [
             14.09156408
            ]
           },
           {
            "iteration": 19,
            "learn": [
             7.788846074
            ],
            "passed_time": 19.0109328,
            "remaining_time": 171.0983952,
            "test": [
             14.07114608
            ]
           },
           {
            "iteration": 20,
            "learn": [
             7.75882024
            ],
            "passed_time": 20.17047842,
            "remaining_time": 171.929316,
            "test": [
             14.05221451
            ]
           },
           {
            "iteration": 21,
            "learn": [
             7.730641047
            ],
            "passed_time": 21.41476799,
            "remaining_time": 173.264941,
            "test": [
             14.03580202
            ]
           },
           {
            "iteration": 22,
            "learn": [
             7.70201363
            ],
            "passed_time": 22.28122555,
            "remaining_time": 171.4685618,
            "test": [
             14.02202624
            ]
           },
           {
            "iteration": 23,
            "learn": [
             7.673088635
            ],
            "passed_time": 23.18022212,
            "remaining_time": 169.9882956,
            "test": [
             14.00259776
            ]
           },
           {
            "iteration": 24,
            "learn": [
             7.644362334
            ],
            "passed_time": 24.00331464,
            "remaining_time": 168.0232025,
            "test": [
             13.9844978
            ]
           },
           {
            "iteration": 25,
            "learn": [
             7.616171455
            ],
            "passed_time": 24.90141411,
            "remaining_time": 166.6479252,
            "test": [
             13.96746946
            ]
           },
           {
            "iteration": 26,
            "learn": [
             7.589376413
            ],
            "passed_time": 25.63066761,
            "remaining_time": 164.2261295,
            "test": [
             13.95266923
            ]
           },
           {
            "iteration": 27,
            "learn": [
             7.562198789
            ],
            "passed_time": 26.66815388,
            "remaining_time": 163.8186596,
            "test": [
             13.93490967
            ]
           },
           {
            "iteration": 28,
            "learn": [
             7.535742034
            ],
            "passed_time": 27.43791339,
            "remaining_time": 161.7890755,
            "test": [
             13.92107238
            ]
           },
           {
            "iteration": 29,
            "learn": [
             7.509585114
            ],
            "passed_time": 28.48317928,
            "remaining_time": 161.4046826,
            "test": [
             13.90563128
            ]
           },
           {
            "iteration": 30,
            "learn": [
             7.483287596
            ],
            "passed_time": 29.35634639,
            "remaining_time": 160.0394368,
            "test": [
             13.88858231
            ]
           },
           {
            "iteration": 31,
            "learn": [
             7.457220289
            ],
            "passed_time": 30.25235583,
            "remaining_time": 158.8248681,
            "test": [
             13.87296344
            ]
           },
           {
            "iteration": 32,
            "learn": [
             7.432308294
            ],
            "passed_time": 31.19754942,
            "remaining_time": 157.8785077,
            "test": [
             13.85935154
            ]
           },
           {
            "iteration": 33,
            "learn": [
             7.408505825
            ],
            "passed_time": 32.07625126,
            "remaining_time": 156.6075797,
            "test": [
             13.84631657
            ]
           },
           {
            "iteration": 34,
            "learn": [
             7.383886144
            ],
            "passed_time": 33.1567509,
            "remaining_time": 156.3103971,
            "test": [
             13.83298577
            ]
           },
           {
            "iteration": 35,
            "learn": [
             7.359850452
            ],
            "passed_time": 34.24243454,
            "remaining_time": 155.9933129,
            "test": [
             13.81724291
            ]
           },
           {
            "iteration": 36,
            "learn": [
             7.336844965
            ],
            "passed_time": 35.45625343,
            "remaining_time": 156.1991705,
            "test": [
             13.80539922
            ]
           },
           {
            "iteration": 37,
            "learn": [
             7.314620559
            ],
            "passed_time": 36.43103507,
            "remaining_time": 155.3112548,
            "test": [
             13.79221614
            ]
           },
           {
            "iteration": 38,
            "learn": [
             7.291582891
            ],
            "passed_time": 37.36357121,
            "remaining_time": 154.2444863,
            "test": [
             13.77861343
            ]
           },
           {
            "iteration": 39,
            "learn": [
             7.268746662
            ],
            "passed_time": 38.335231,
            "remaining_time": 153.340924,
            "test": [
             13.76603228
            ]
           },
           {
            "iteration": 40,
            "learn": [
             7.246549775
            ],
            "passed_time": 39.1935722,
            "remaining_time": 151.9945849,
            "test": [
             13.75420498
            ]
           },
           {
            "iteration": 41,
            "learn": [
             7.225451299
            ],
            "passed_time": 40.05633136,
            "remaining_time": 150.6881037,
            "test": [
             13.74251435
            ]
           },
           {
            "iteration": 42,
            "learn": [
             7.204366304
            ],
            "passed_time": 40.78421282,
            "remaining_time": 148.9098003,
            "test": [
             13.73189475
            ]
           },
           {
            "iteration": 43,
            "learn": [
             7.182567002
            ],
            "passed_time": 41.9572089,
            "remaining_time": 148.757377,
            "test": [
             13.71901479
            ]
           },
           {
            "iteration": 44,
            "learn": [
             7.161668154
            ],
            "passed_time": 43.12088328,
            "remaining_time": 148.5274869,
            "test": [
             13.7092814
            ]
           },
           {
            "iteration": 45,
            "learn": [
             7.141920564
            ],
            "passed_time": 44.23721459,
            "remaining_time": 148.098501,
            "test": [
             13.69951563
            ]
           },
           {
            "iteration": 46,
            "learn": [
             7.121007283
            ],
            "passed_time": 45.53427411,
            "remaining_time": 148.2285945,
            "test": [
             13.6855578
            ]
           },
           {
            "iteration": 47,
            "learn": [
             7.100161608
            ],
            "passed_time": 46.74477424,
            "remaining_time": 148.0251184,
            "test": [
             13.67333951
            ]
           },
           {
            "iteration": 48,
            "learn": [
             7.079704368
            ],
            "passed_time": 47.89061837,
            "remaining_time": 147.5812933,
            "test": [
             13.66167198
            ]
           },
           {
            "iteration": 49,
            "learn": [
             7.060707803
            ],
            "passed_time": 48.85908145,
            "remaining_time": 146.5772443,
            "test": [
             13.64463694
            ]
           },
           {
            "iteration": 50,
            "learn": [
             7.040972488
            ],
            "passed_time": 49.99076288,
            "remaining_time": 146.0514445,
            "test": [
             13.63231004
            ]
           },
           {
            "iteration": 51,
            "learn": [
             7.021532303
            ],
            "passed_time": 51.03373148,
            "remaining_time": 145.2498511,
            "test": [
             13.62089618
            ]
           },
           {
            "iteration": 52,
            "learn": [
             7.001990365
            ],
            "passed_time": 52.1912096,
            "remaining_time": 144.7567512,
            "test": [
             13.60719741
            ]
           },
           {
            "iteration": 53,
            "learn": [
             6.982083919
            ],
            "passed_time": 53.37671119,
            "remaining_time": 144.3148117,
            "test": [
             13.59149083
            ]
           },
           {
            "iteration": 54,
            "learn": [
             6.963268108
            ],
            "passed_time": 54.2966301,
            "remaining_time": 143.1456612,
            "test": [
             13.58050596
            ]
           },
           {
            "iteration": 55,
            "learn": [
             6.945098221
            ],
            "passed_time": 55.25824841,
            "remaining_time": 142.0926388,
            "test": [
             13.57242045
            ]
           },
           {
            "iteration": 56,
            "learn": [
             6.926807223
            ],
            "passed_time": 56.52415154,
            "remaining_time": 141.8062047,
            "test": [
             13.5618686
            ]
           },
           {
            "iteration": 57,
            "learn": [
             6.909824007
            ],
            "passed_time": 57.42452121,
            "remaining_time": 140.5910692,
            "test": [
             13.55398786
            ]
           },
           {
            "iteration": 58,
            "learn": [
             6.892768011
            ],
            "passed_time": 58.49894055,
            "remaining_time": 139.8025528,
            "test": [
             13.54558817
            ]
           },
           {
            "iteration": 59,
            "learn": [
             6.874872505
            ],
            "passed_time": 59.75465964,
            "remaining_time": 139.4275392,
            "test": [
             13.53105347
            ]
           },
           {
            "iteration": 60,
            "learn": [
             6.857073109
            ],
            "passed_time": 60.92652043,
            "remaining_time": 138.832563,
            "test": [
             13.51465051
            ]
           },
           {
            "iteration": 61,
            "learn": [
             6.840123771
            ],
            "passed_time": 62.08237419,
            "remaining_time": 138.183349,
            "test": [
             13.50369466
            ]
           },
           {
            "iteration": 62,
            "learn": [
             6.823428489
            ],
            "passed_time": 62.99510744,
            "remaining_time": 136.9893606,
            "test": [
             13.49425164
            ]
           },
           {
            "iteration": 63,
            "learn": [
             6.807120956
            ],
            "passed_time": 64.16968239,
            "remaining_time": 136.3605751,
            "test": [
             13.48486956
            ]
           },
           {
            "iteration": 64,
            "learn": [
             6.791174487
            ],
            "passed_time": 65.33395509,
            "remaining_time": 135.693599,
            "test": [
             13.47325023
            ]
           },
           {
            "iteration": 65,
            "learn": [
             6.77459085
            ],
            "passed_time": 66.58339897,
            "remaining_time": 135.1844767,
            "test": [
             13.45790302
            ]
           },
           {
            "iteration": 66,
            "learn": [
             6.759349551
            ],
            "passed_time": 67.7691036,
            "remaining_time": 134.526728,
            "test": [
             13.45178385
            ]
           },
           {
            "iteration": 67,
            "learn": [
             6.742639259
            ],
            "passed_time": 68.73159117,
            "remaining_time": 133.4201476,
            "test": [
             13.43788272
            ]
           },
           {
            "iteration": 68,
            "learn": [
             6.727397546
            ],
            "passed_time": 69.77424433,
            "remaining_time": 132.4699421,
            "test": [
             13.42488566
            ]
           },
           {
            "iteration": 69,
            "learn": [
             6.711912275
            ],
            "passed_time": 71.12556292,
            "remaining_time": 132.0903311,
            "test": [
             13.40681569
            ]
           },
           {
            "iteration": 70,
            "learn": [
             6.696859682
            ],
            "passed_time": 72.27637097,
            "remaining_time": 131.3190402,
            "test": [
             13.39592498
            ]
           },
           {
            "iteration": 71,
            "learn": [
             6.681481522
            ],
            "passed_time": 73.41177446,
            "remaining_time": 130.5098213,
            "test": [
             13.38211946
            ]
           },
           {
            "iteration": 72,
            "learn": [
             6.665342403
            ],
            "passed_time": 74.64573091,
            "remaining_time": 129.8631209,
            "test": [
             13.37207967
            ]
           },
           {
            "iteration": 73,
            "learn": [
             6.651486835
            ],
            "passed_time": 75.84739303,
            "remaining_time": 129.1455611,
            "test": [
             13.3667623
            ]
           },
           {
            "iteration": 74,
            "learn": [
             6.637103609
            ],
            "passed_time": 76.64582683,
            "remaining_time": 127.7430447,
            "test": [
             13.35607335
            ]
           }
          ],
          "meta": {
           "iteration_count": 200,
           "launch_mode": "Train",
           "learn_metrics": [
            {
             "best_value": "Min",
             "name": "RMSE"
            }
           ],
           "learn_sets": [
            "learn"
           ],
           "name": "experiment",
           "parameters": "",
           "test_metrics": [
            {
             "best_value": "Min",
             "name": "RMSE"
            }
           ],
           "test_sets": [
            "test"
           ]
          }
         },
         "passed_iterations": 74,
         "total_iterations": 200
        },
        "name": "catboost_info",
        "path": "catboost_info"
       }
      },
      "layout": "IPY_MODEL_b022d648850745d7be8ee2890f47d9ed"
     }
    },
    "b022d648850745d7be8ee2890f47d9ed": {
     "model_module": "@jupyter-widgets/base",
     "model_name": "LayoutModel",
     "state": {
      "_model_module": "@jupyter-widgets/base",
      "_model_module_version": "1.2.0",
      "_model_name": "LayoutModel",
      "_view_count": null,
      "_view_module": "@jupyter-widgets/base",
      "_view_module_version": "1.2.0",
      "_view_name": "LayoutView",
      "align_content": null,
      "align_items": null,
      "align_self": "stretch",
      "border": null,
      "bottom": null,
      "display": null,
      "flex": null,
      "flex_flow": null,
      "grid_area": null,
      "grid_auto_columns": null,
      "grid_auto_flow": null,
      "grid_auto_rows": null,
      "grid_column": null,
      "grid_gap": null,
      "grid_row": null,
      "grid_template_areas": null,
      "grid_template_columns": null,
      "grid_template_rows": null,
      "height": "500px",
      "justify_content": null,
      "justify_items": null,
      "left": null,
      "margin": null,
      "max_height": null,
      "max_width": null,
      "min_height": null,
      "min_width": null,
      "object_fit": null,
      "object_position": null,
      "order": null,
      "overflow": null,
      "overflow_x": null,
      "overflow_y": null,
      "padding": null,
      "right": null,
      "top": null,
      "visibility": null,
      "width": null
     }
    }
   }
  }
 },
 "nbformat": 4,
 "nbformat_minor": 2
}
